{
 "cells": [
  {
   "cell_type": "markdown",
   "id": "d4c6e7e2",
   "metadata": {},
   "source": [
    "### DFS | 유기농 배추"
   ]
  },
  {
   "cell_type": "markdown",
   "id": "c73de388",
   "metadata": {},
   "source": [
    "문제 링크: https://www.acmicpc.net/problem/1012"
   ]
  },
  {
   "cell_type": "code",
   "execution_count": null,
   "id": "a95995a5",
   "metadata": {},
   "outputs": [],
   "source": [
    "\"\"\"\n",
    "연결되어 있는 1(배추)는 하나의 벌레가 관리 가능\n",
    "DFS 알고리즘 사용\n",
    "\"\"\"\n",
    "\n",
    "t = int(input())\n",
    "\n",
    "n, m, k = map(int, input().split())\n",
    "\n",
    "array = []\n",
    "for _ in range(m):\n",
    "    line = []\n",
    "    for _ in range(n):\n",
    "        line.append(0)\n",
    "    array.append(line)\n",
    "\n",
    "# 배추 심기\n",
    "for _ in range(k):\n",
    "    b, a = map(int, input().split())\n",
    "    array[a][b] = 1 # 배추를 심은 경우\n",
    "\n",
    "# DFS 알고리즘 사용\n",
    "def dfs(x,y):\n",
    "    if x < 0 or x >= n or y < 0 or y >= m: # 범위를 벗어나는 경우\n",
    "        return False\n",
    "        \n",
    "    if array[y][x] == 1:\n",
    "        array[y][x] = 0 # 벌레가 배추를 먹음 -> 0으로\n",
    "        dfs(x-1,y)\n",
    "        dfs(x, y-1)\n",
    "        dfs(x+1,y)\n",
    "        dfs(x,y+1)\n",
    "        return True\n",
    "    return False\n",
    "\n",
    "result = 0\n",
    "for i in range(n):\n",
    "    for j in range(m):\n",
    "        if dfs(i,j) == True:\n",
    "            result += 1\n",
    "print(result)"
   ]
  },
  {
   "cell_type": "markdown",
   "id": "0a352631",
   "metadata": {},
   "source": [
    "### BFS | 특정거리의 도시 찾기"
   ]
  },
  {
   "cell_type": "markdown",
   "id": "db9167a5",
   "metadata": {},
   "source": [
    "문제 링크: https://www.acmicpc.net/problem/18352"
   ]
  },
  {
   "cell_type": "code",
   "execution_count": null,
   "id": "e2b7a7d7",
   "metadata": {},
   "outputs": [],
   "source": [
    "\"\"\"\n",
    "최단거리를 구하기 위해 bfs 알고리즘 사용\n",
    "큐를 활용\n",
    "처음에 graph를 만드는 과정에서 각 지점별 이어지는 지점으로 연결하는 것이 중요\n",
    "\"\"\"\n",
    "from collections import deque\n",
    "n, m, k, x = map(int, input().split())\n",
    "\n",
    "distance = [0] * (n+1)\n",
    "visited = [False] * (n+1)\n",
    "\n",
    "graph = [[] for _ in range(n+1)]\n",
    "#print(graph)\n",
    "for _ in range(m):\n",
    "    a, b = map(int, input().split()) # 각 점과 연결되는 지점을 정해주는 것이 중요\n",
    "    graph[a].append(b)\n",
    "    #print(graph)\n",
    "\n",
    "def bfs(start):\n",
    "    queue = deque([start])\n",
    "    visited[start] = True # 이미 지난 부분은 True 처리\n",
    "    distance[start] = 0\n",
    "    while queue: # queue가 빌때까지\n",
    "        v = queue.popleft()\n",
    "        for i in graph[v]:\n",
    "            if not visited[i]: # 지난적이 없을 경우\n",
    "                visited[i] = True\n",
    "                queue.append(i)\n",
    "                distance[i] = distance[v] + 1 # 거리를 계산\n",
    "\n",
    "bfs(x)\n",
    "\n",
    "for i,j in enumerate(distance):\n",
    "    if j != 0:\n",
    "        if j == k:\n",
    "            print(i)\n",
    "\n",
    "if k not in distance:\n",
    "    print(-1)"
   ]
  },
  {
   "cell_type": "markdown",
   "id": "ecb64bb9",
   "metadata": {},
   "source": [
    "### DFS & BFS 사용 시기\n",
    "\n",
    "#### DFS를 사용하는 시기\n",
    "- 깊이 우선 탐색\n",
    "- 연결된 모든 브랜치를 방문하고 다른 브랜치로 넘어갈 경우\n",
    "- 한 방향을 갈수 있을 때까지 계속 가다가 불가능할 경우 다시 가장 가까운 갈림길로 돌아와 다른 방향으로 다시 탐색하는 경우\n",
    "- 모든 노드를 방문하고자 하는 경우\n",
    "\n",
    "#### BFS를 사용하는 시기\n",
    "- 너비 우선 탐색\n",
    "- 현재 위치에서 가장 가까운 노드들을 모두 방문하는 경우\n",
    "- 최단 거리를 찾거나 임의의 경로를 찾는 경우"
   ]
  }
 ],
 "metadata": {
  "kernelspec": {
   "display_name": "Python 3 (ipykernel)",
   "language": "python",
   "name": "python3"
  },
  "language_info": {
   "codemirror_mode": {
    "name": "ipython",
    "version": 3
   },
   "file_extension": ".py",
   "mimetype": "text/x-python",
   "name": "python",
   "nbconvert_exporter": "python",
   "pygments_lexer": "ipython3",
   "version": "3.9.7"
  }
 },
 "nbformat": 4,
 "nbformat_minor": 5
}
