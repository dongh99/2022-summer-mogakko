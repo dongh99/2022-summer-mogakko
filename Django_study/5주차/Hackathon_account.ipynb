{
 "cells": [
  {
   "cell_type": "markdown",
   "id": "d70401ef",
   "metadata": {},
   "source": [
    "### 해커톤\n",
    "- 해커톤에서 구현한 기능에 대한 고찰과 분석\n",
    "- 반복되었던 오류에 대한 원인 분석\n",
    "- 코드 간결화\n",
    "- 추가적으로 구현할 수 있는 부분에 대한 분석\n",
    "\n",
    "\n",
    "- 구현한 파트: account 파트\n",
    "    - 회원가입(signup) 구현\n",
    "    - 로그인(login) 구현\n",
    "    - 로그아웃(logout) 구현"
   ]
  },
  {
   "cell_type": "markdown",
   "id": "3d12ba95",
   "metadata": {},
   "source": [
    "### accounts -> models.py"
   ]
  },
  {
   "cell_type": "code",
   "execution_count": null,
   "id": "5b828393",
   "metadata": {},
   "outputs": [],
   "source": [
    "from django.db import models\n",
    "from django.contrib.auth.models import AbstractUser\n",
    "\n",
    "\n",
    "class CustomUser(AbstractUser):\n",
    "    username = models.CharField(max_length=50, unique=True)\n",
    "    password = models.CharField(max_length=50)\n",
    "    password1 = models.CharField(max_length=50)\n",
    "    phone_num = models.CharField(max_length=11)\n",
    "    user_address = models.CharField(max_length=200, blank = True, null = True)\n",
    "    user_bool = models.BooleanField(default=False)"
   ]
  },
  {
   "cell_type": "markdown",
   "id": "ba0483e0",
   "metadata": {},
   "source": [
    "### unique = True\n",
    "- 오류가 반복된 부분\n",
    "- 계속하여 username이 중복된다는 오류가 계속 발생함\n",
    "    - username 필드를 고유한 값으로 만들어줬어야함. \n",
    "- 'unique = True' -> 고유한 값으로 하는 필드에 적용"
   ]
  },
  {
   "cell_type": "markdown",
   "id": "4e8e2948",
   "metadata": {},
   "source": [
    "### 두개 이상의 필드를 고유화 할 경우"
   ]
  },
  {
   "cell_type": "code",
   "execution_count": null,
   "id": "c44678fa",
   "metadata": {},
   "outputs": [],
   "source": [
    "class CustomUser(AbstractUser):\n",
    "    class Meta:\n",
    "        constraints = [\n",
    "            models.UniqueConstraint(\n",
    "            fields = [\"username\",\"email\"])\n",
    "        ]"
   ]
  },
  {
   "cell_type": "markdown",
   "id": "069ec7f5",
   "metadata": {},
   "source": [
    "### password를 입력하라는 오류"
   ]
  },
  {
   "cell_type": "code",
   "execution_count": null,
   "id": "13b6832c",
   "metadata": {},
   "outputs": [],
   "source": [
    "# 기존 CustomUser\n",
    "class CustomUser(AbstractUser):\n",
    "    password1 = models.CharField(max_length=50)\n",
    "    password2 = models.CharField(max_length=50)"
   ]
  },
  {
   "cell_type": "markdown",
   "id": "90c0cc8f",
   "metadata": {},
   "source": [
    "### 오류 원인에 대한 분석\n",
    "- AbstractUser을 상속받았기 때문에 password 값이 없어서는 안되는것인지..??\n",
    "- AbstractBaseUSer의 경우는 password를 갖고 있지만 AbstractUser에는 명시되어 있지 않음"
   ]
  },
  {
   "cell_type": "markdown",
   "id": "f8792580",
   "metadata": {},
   "source": [
    "### AbstractBaseUser vs AbstractUser\n",
    "- AbstractBaseUser\n",
    "    - password와 last_login만 던져줌\n",
    "    - 세밀한 커스텀 유저를 만들 때 사용 -> ex) 페이스북 로그인등을 통한 로그인\n",
    "- AbstractUser\n",
    "    - 많은 값을 던져줌\n",
    "    - settings.py에 AUTH_USER_MODEL='모듈.클래스이름'을 추가해줘야함"
   ]
  },
  {
   "cell_type": "markdown",
   "id": "b9a5e41a",
   "metadata": {},
   "source": [
    "### accounts -> serializers.py"
   ]
  },
  {
   "cell_type": "code",
   "execution_count": null,
   "id": "c09c98f5",
   "metadata": {},
   "outputs": [],
   "source": [
    "from rest_framework import serializers\n",
    "from .models import CustomUser\n",
    "\n",
    "class LoginSerializer(serializers.Serializer):\n",
    "    username = serializers.CharField(max_length=150)\n",
    "    password = serializers.CharField(max_length=128)\n",
    "\n",
    "class SignupSerializer(serializers.ModelSerializer):\n",
    "    class Meta:\n",
    "        model = CustomUser\n",
    "        fields = ['username','password','password1','phone_num','user_address','user_bool']"
   ]
  },
  {
   "cell_type": "markdown",
   "id": "5a0f4957",
   "metadata": {},
   "source": [
    "### accounts -> views.py"
   ]
  },
  {
   "cell_type": "code",
   "execution_count": null,
   "id": "61480940",
   "metadata": {},
   "outputs": [],
   "source": [
    "from .models import CustomUser\n",
    "from rest_framework.decorators import api_view\n",
    "from rest_framework.response import Response\n",
    "from rest_framework import status\n",
    "from .serializers import LoginSerializer, SignupSerializer\n",
    "from django.contrib import auth\n",
    "from django.contrib.auth.hashers import make_password\n",
    "\n",
    "# Create your views here.\n",
    "\n",
    "@api_view(['POST'])\n",
    "def signup(request):\n",
    "    serializer = SignupSerializer(data=request.data)\n",
    "    if serializer.is_valid():\n",
    "        if len(serializer.validated_data['password']) >= 8 and any(i.isalpha() for i in serializer.validated_data['password']) and any(i.isdigit() for i in serializer.validated_data['password']):   \n",
    "            if serializer.validated_data['password'] == serializer.validated_data['password1']:\n",
    "                new_user = serializer.save(password = make_password(serializer.validated_data['password']))\n",
    "                auth.login(request, new_user)\n",
    "                return Response(status=status.HTTP_200_OK)\n",
    "    return Response(status=status.HTTP_400_BAD_REQUEST)\n",
    "\n",
    "'''\n",
    "로그인\n",
    "'''\n",
    "@api_view(['POST'])\n",
    "def login(request):\n",
    "    serializer = LoginSerializer(data=request.data)\n",
    "    if serializer.is_valid():\n",
    "        user = auth.authenticate(\n",
    "            request = request, \n",
    "            username = serializer.data['username'],\n",
    "            password = serializer.data['password']\n",
    "        )\n",
    "        if user is not None:\n",
    "            auth.login(request, user)\n",
    "            return Response(status=status.HTTP_200_OK)\n",
    "        return Response(status=status.HTTP_404_NOT_FOUND)\n",
    "    return Response(status=status.HTTP_400_BAD_REQUEST)\n",
    "\n",
    "'''\n",
    "로그아웃\n",
    "'''\n",
    "@api_view(['POST'])\n",
    "def logout(request):\n",
    "    auth.logout(request)\n",
    "    return Response(status=status.HTTP_200_OK)"
   ]
  },
  {
   "cell_type": "markdown",
   "id": "a7b09cfc",
   "metadata": {},
   "source": [
    "### signup 함수\n",
    "- isdigit(), isalpha() 모두 문자열에 대해 적용 가능 -> 따로 예외처리 구문 필요 없음\n",
    "- serializer.validated_data => 유효성 검사를 한 데이터에 대한 처리\n",
    "    - is.valid() 이후 유효성 검사를 통과한 데이터이기 때문\n",
    "    - serializer.password가 아닌 serializer.validated_data['password']로 접근"
   ]
  }
 ],
 "metadata": {
  "kernelspec": {
   "display_name": "Python 3 (ipykernel)",
   "language": "python",
   "name": "python3"
  },
  "language_info": {
   "codemirror_mode": {
    "name": "ipython",
    "version": 3
   },
   "file_extension": ".py",
   "mimetype": "text/x-python",
   "name": "python",
   "nbconvert_exporter": "python",
   "pygments_lexer": "ipython3",
   "version": "3.9.7"
  }
 },
 "nbformat": 4,
 "nbformat_minor": 5
}
