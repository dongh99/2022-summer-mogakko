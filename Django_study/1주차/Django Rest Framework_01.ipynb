{
 "cells": [
  {
   "cell_type": "markdown",
   "id": "3eed6339",
   "metadata": {},
   "source": [
    "### Client & Server\n",
    "\n",
    "- 클라이언트 서버 구조란?\n",
    "    - 클라이언트: 고객으로 요청(request)를 하는 대상\n",
    "    - 서버: 요청을 받아 요청에 대한 대답(response)인 서빙을 하는 대상\n",
    "    - 고객이 요청을 하면 서버는 그에 대한 응답을 고객에게 전달함\n",
    "    - ex) A에 대한 정보를 요청 -> 서버는 A에 대한 여러 정보를 응답"
   ]
  },
  {
   "cell_type": "markdown",
   "id": "be624e96",
   "metadata": {},
   "source": [
    "#### 요청과 응답을 주고 받는 방법은?"
   ]
  },
  {
   "cell_type": "markdown",
   "id": "9ee165be",
   "metadata": {},
   "source": [
    "### API\n",
    "<br/>\n",
    "- 클라이언트와 서버의 요청과 응답을 주고 받는 방법 = 'API'\n",
    "\n",
    "- API란?\n",
    "    - Application Programming Interface\n",
    "        - Interface: 소통의 매개체 역할을 해주는 것\n",
    "        - ex) 마우스 -> 사람과 컴퓨터의 소통의 매개체\n",
    "    - 프로그램과 프로그램 사이의 소통 매개체\n",
    "    - 소프트웨어 구성요소들이 서로 소통 할 수 있게 하는 매커니즘\n",
    "    - ex) 기상청 소프트웨어 시스템과 날씨 웹 -> API를 통해 서로 소통하며 날씨 정보를 전달   \n",
    "    \n",
    "    \n",
    "- 백엔드: 응답을 어떻게 구성할지 고민해야함"
   ]
  },
  {
   "cell_type": "markdown",
   "id": "d7066694",
   "metadata": {},
   "source": [
    "### RESTful API\n",
    "<br/>\n",
    "\n",
    "- REST = Representational State Transfer\n",
    "    - 클라이언트가 데이터에 접근하는데 사용하는 POST, GET, PUT, DELETE 등의 함수 집합을 정의\n",
    "    <br/>\n",
    "    <br/>\n",
    "    \n",
    "- 특징1 : URI를 통한 소통\n",
    "    - url을 통해 요청하는 데이터가 무엇인지 알수 있음\n",
    "    - ex) http://~/posts/406 => 406번째 글에 대한 데이터를 요청\n",
    "    <br/>\n",
    "    <br/>\n",
    "\n",
    "- 특징2: HTTP method를 통한 명세\n",
    "    - 더 확실한 파악을 위해 사용\n",
    "    - Create, Update, Delete, Read"
   ]
  },
  {
   "cell_type": "markdown",
   "id": "0ee2a01c",
   "metadata": {},
   "source": [
    "### HTTP method\n",
    "- HTTP: 인터넷에서 데이터를 주고 받을 수 있는 규칙\n",
    "- 서버에게 클라이언트가 이용하고 싶은 기능을 요청할때 사용\n",
    "<br/>\n",
    "\n",
    "- CRUD와 매칭이 됨\n",
    "    - Create = POST\n",
    "    - Read = GET\n",
    "    - Update = PUT\n",
    "    - Delete = DELETE"
   ]
  },
  {
   "cell_type": "markdown",
   "id": "00aff442",
   "metadata": {},
   "source": [
    "### HTTP status code\n",
    "\n",
    "- 서버가 클라이언트의 요청에 대한 응답을 표현하는 방법\n",
    "\n",
    "\n",
    "- ex) status code 404 => 클라이언트가 요청한 데이터가 존재x\n",
    "- ex) status code 200 => 정상적인 요청에 대한 정상적인 응답\n",
    "- ex) status code 401 => 클라이언트가 권한이 없음"
   ]
  },
  {
   "cell_type": "markdown",
   "id": "b74cb15b",
   "metadata": {},
   "source": [
    "### json type\n",
    "\n",
    "\n",
    "- json이란?\n",
    "    - JavaScript Object Notation의 줄임말\n",
    "    - 데이터를 저장하거나 전송할 때 많이 사용되는 데이터 교환 형식\n",
    "    \n",
    "    \n",
    "- json type\n",
    "    - 딕셔너리 형태를 사용 = {}\n",
    "    - {}에 데이터를 담아서 요청과 응답에 사용\n",
    "    - \"\"를 사용"
   ]
  },
  {
   "cell_type": "code",
   "execution_count": 2,
   "id": "5df5394e",
   "metadata": {},
   "outputs": [
    {
     "data": {
      "text/plain": [
       "{'name': 'dong', 'age': '24', 'residence': '이문동'}"
      ]
     },
     "execution_count": 2,
     "metadata": {},
     "output_type": "execute_result"
    }
   ],
   "source": [
    "{\n",
    "    \"name\":\"dong\",\n",
    "    \"age\":\"24\",\n",
    "    \"residence\":\"이문동\"\n",
    "}"
   ]
  }
 ],
 "metadata": {
  "kernelspec": {
   "display_name": "Python 3 (ipykernel)",
   "language": "python",
   "name": "python3"
  },
  "language_info": {
   "codemirror_mode": {
    "name": "ipython",
    "version": 3
   },
   "file_extension": ".py",
   "mimetype": "text/x-python",
   "name": "python",
   "nbconvert_exporter": "python",
   "pygments_lexer": "ipython3",
   "version": "3.9.7"
  }
 },
 "nbformat": 4,
 "nbformat_minor": 5
}
