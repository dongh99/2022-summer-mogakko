{
 "cells": [
  {
   "cell_type": "markdown",
   "id": "b0309657",
   "metadata": {},
   "source": [
    "### 로그인 & 회원가입 구현"
   ]
  },
  {
   "cell_type": "markdown",
   "id": "09042592",
   "metadata": {},
   "source": [
    "#### 1. account 앱 생성\n",
    "- python manage.py startapp accounts"
   ]
  },
  {
   "cell_type": "markdown",
   "id": "76986e7f",
   "metadata": {},
   "source": [
    "#### 2. settings.py에 추가\n",
    "- 앱을 생성할 경우 -> 반드시 settings.py에 알리기"
   ]
  },
  {
   "cell_type": "code",
   "execution_count": null,
   "id": "4597e9dd",
   "metadata": {},
   "outputs": [],
   "source": [
    "# tutorial -> settings.py\n",
    "\n",
    "INSTALLED_APPS = [\n",
    "    'django.contrib.admin',\n",
    "    'django.contrib.auth',\n",
    "    'django.contrib.contenttypes',\n",
    "    'django.contrib.sessions',\n",
    "    'django.contrib.messages',\n",
    "    'django.contrib.staticfiles',\n",
    "    'rest_framework',\n",
    "    'blog',\n",
    "    'accounts', # 추가\n",
    "]"
   ]
  },
  {
   "cell_type": "markdown",
   "id": "5c04e380",
   "metadata": {},
   "source": [
    "#### 3. 모델 형성하기\n",
    "\n",
    "\n",
    "- 유저 모델을 형성\n",
    "- 로그인, 회원가입을 위한 모델 형성\n",
    "- 모델 형성후 반드시 migration 해주기\n",
    "    - 기존에 superuser의 데이터 때문에 오류 발생 가능\n",
    "    - admin과 관련된 부분 주석처리 후 migration"
   ]
  },
  {
   "cell_type": "code",
   "execution_count": null,
   "id": "92a91269",
   "metadata": {},
   "outputs": [],
   "source": [
    "# accounts -> models.py\n",
    "\n",
    "from django.db import models\n",
    "from django.contrib.auth.models import AbstractUser\n",
    "\n",
    "# Create your models here.\n",
    "class CustomUser(AbstractUser):\n",
    "    nickname = models.CharField(max_length=100)\n",
    "    university = models.CharField(max_length=50)\n",
    "    location = models.CharField(max_length=200)"
   ]
  },
  {
   "cell_type": "markdown",
   "id": "606d3d02",
   "metadata": {},
   "source": [
    "#### 4. settings.py에 알리기\n",
    "- accounts 앱에서 만든 CustomUser 모델을 사용하기 위해 장고에 알려야함"
   ]
  },
  {
   "cell_type": "code",
   "execution_count": null,
   "id": "de45daed",
   "metadata": {},
   "outputs": [],
   "source": [
    "# tutorial -> settings.py\n",
    "\n",
    "AUTH_USER_MODEL = 'accounts.CustomUser' # 추가해주기"
   ]
  },
  {
   "cell_type": "markdown",
   "id": "055def2a",
   "metadata": {},
   "source": [
    "#### 5. admin 페이지에 모델 등록하기\n",
    "- admin 페이지에서 데이터를 관리할 수 있음\n",
    "- 가입된 회원 정보를 관리하기 위해 accounts앱의 admin 페이지에 CustomUser 모델을 등록"
   ]
  },
  {
   "cell_type": "code",
   "execution_count": null,
   "id": "d3674267",
   "metadata": {},
   "outputs": [],
   "source": [
    "# accounts -> admin.py\n",
    "\n",
    "from django.contrib import admin\n",
    "from .models import CustomUser\n",
    "# Register your models here.\n",
    "\n",
    "admin.site.register(CustomUser) # CustomUser 모델을 등록"
   ]
  },
  {
   "cell_type": "markdown",
   "id": "71aad809",
   "metadata": {},
   "source": [
    "#### 6. serializers 정의하기\n",
    "- accounts앱에 serializers.py 생성\n",
    "- blog의 serializer처럼 accounts의 serializers를 생성"
   ]
  },
  {
   "cell_type": "code",
   "execution_count": null,
   "id": "3d27badd",
   "metadata": {},
   "outputs": [],
   "source": [
    "# accounts -> serializers.py \n",
    "\n",
    "from rest_framework import serializers\n",
    "from .models import CustomUser # 모델 사용\n",
    "\n",
    "class LoginSerializer(serializers.Serializer): # 로그인\n",
    "    username = serializers.CharField(max_length=150)\n",
    "    password = serializers.CharField(max_length=128)\n",
    "\n",
    "class SignupSerializer(serializers.ModelSerializer): # 회원가입\n",
    "    class Meta:\n",
    "        model = CustomUser # 모델에 대한 정의가 필요 -> ModelSerializer을 사용하기 때문\n",
    "        fields = ['username', 'password', 'nickname', 'university', 'location', ]"
   ]
  },
  {
   "cell_type": "markdown",
   "id": "5b890b29",
   "metadata": {},
   "source": [
    "#### 7. blog앱에 author 추가하기\n",
    "- BlogSerializer 에 author 추가\n",
    "- 블로그 model에 author 필드 추가"
   ]
  },
  {
   "cell_type": "code",
   "execution_count": null,
   "id": "6563ef4a",
   "metadata": {},
   "outputs": [],
   "source": [
    "# blog -> serializers.py\n",
    "\n",
    "class BlogSerializer(serializers.ModelSerializer):\n",
    "    class Meta:\n",
    "        model = Blog\n",
    "        fields = ['id','title', 'author', 'body'] # author 추가\n",
    "        read_only_fields = ['id']"
   ]
  },
  {
   "cell_type": "code",
   "execution_count": null,
   "id": "d7f08799",
   "metadata": {},
   "outputs": [],
   "source": [
    "# blog -> models.py\n",
    "\n",
    "from django.db import models\n",
    "from accounts.models import CustomUser\n",
    "\n",
    "# Create your models here.\n",
    "class Blog(models.Model):\n",
    "    title = models.CharField(max_length=100)\n",
    "    author = models.ForeignKey(CustomUser, on_delete=models.CASCADE,null=True) # author 필드 추가 \n",
    "    body = models.TextField(default=\"default\")\n",
    "    date = models.DateTimeField(auto_now_add=True)\n",
    "\n",
    "    def __str__(self):\n",
    "        return self.title"
   ]
  },
  {
   "cell_type": "markdown",
   "id": "dbee5a4a",
   "metadata": {},
   "source": [
    "#### 'null=True'를 하는 이유\n",
    "- 기존 author 없이 작성된 글을 위해\n",
    "- 없을 경우 기존 글에서 오류 발생"
   ]
  },
  {
   "cell_type": "markdown",
   "id": "b2144324",
   "metadata": {},
   "source": [
    "#### 8. accounts 앱에 함수 정의하기"
   ]
  },
  {
   "cell_type": "code",
   "execution_count": null,
   "id": "e7a50321",
   "metadata": {},
   "outputs": [],
   "source": [
    "# accounts -> views.py\n",
    "\n",
    "from .models import CustomUser\n",
    "from rest_framework.decorators import api_view\n",
    "from rest_framework.response import Response\n",
    "from rest_framework import status\n",
    "from .serializers import LoginSerializer, SignupSerializer\n",
    "from django.contrib import auth\n",
    "from django.contrib.auth.hashers import make_password\n",
    "\n",
    "# Create your views here.\n",
    "@api_view(['POST'])\n",
    "def login(request):\n",
    "    serializer = LoginSerializer(data=request.data) # LoginSerializer로부터 데이터를 받음\n",
    "    if serializer.is_valid(): # 유효할 경우\n",
    "        user = auth.authenticate( # 유저를 반환\n",
    "            request=request,\n",
    "            username=serializer.data['username'],\n",
    "            password=serializer.data['password']\n",
    "        )\n",
    "        if user is not None: # 유저가 존재하지 않을 경우\n",
    "            auth.login(request, user)\n",
    "            return Response(status=status.HTTP_200_OK) # 정상 작동\n",
    "        return Response(status=status.HTTP_404_NOT_FOUND) # 해당하는 데이터가 존재 안할 경우\n",
    "    return Response(status=status.HTTP_400_BAD_REQUEST) # 요청된 값이 유효하지 않을 경우\n",
    "\n",
    "@api_view(['POST'])\n",
    "def signup(request):\n",
    "    serializer = SignupSerializer(data=request.data) # SignupSerializer로부터 데이터를 받음\n",
    "    if serializer.is_valid():\n",
    "        new_user = serializer.save(password = make_password(serializer.validated_data['password'])) # make_password 메소드 사용\n",
    "        auth.login(request, new_user)\n",
    "        return Response(status=status.HTTP_200_OK)\n",
    "    return Response(status=status.HTTP_400_BAD_REQUEST)\n",
    "\n",
    "\n",
    "@api_view(['POST'])\n",
    "def logout(request):\n",
    "    auth.logout(request)\n",
    "    return Response(status=status.HTTP_200_OK)"
   ]
  },
  {
   "cell_type": "markdown",
   "id": "917ceb9f",
   "metadata": {},
   "source": [
    "#### make_password 메소드란?\n",
    "- 문자열로 받은 비밀번호 값을 해시값으로 변경해주는 함수\n",
    "    - 해시 값: 암호화한 값으로 고정된 길이의 비트열로 반환되는 값\n"
   ]
  },
  {
   "cell_type": "markdown",
   "id": "cca71286",
   "metadata": {},
   "source": [
    "#### 9. blog의 views.py에 권한 설정하기\n",
    "\n",
    "\n",
    "- authentication_classes: 권한 설정에 대한 데코레이터\n",
    "    - SessionAuthentication\n",
    "    - BasicAuthentication\n",
    "- permission_classes: 권한이 인증된 유저만 접근이 가능"
   ]
  },
  {
   "cell_type": "code",
   "execution_count": null,
   "id": "1c2bda35",
   "metadata": {},
   "outputs": [],
   "source": [
    "# blog -> views.py\n",
    "\n",
    "from django.shortcuts import render\n",
    "from .models import Blog\n",
    "from .serializers import BlogSerializer, BlogPostPutSerializer\n",
    "from rest_framework.decorators import api_view, authentication_classes,permission_classes\n",
    "from rest_framework.response import Response\n",
    "from rest_framework import status\n",
    "from rest_framework.authentication import SessionAuthentication, BasicAuthentication\n",
    "from rest_framework.permissions import IsAuthenticated, IsAuthenticatedOrReadOnly\n",
    "# Create your views here.\n",
    "'''\n",
    "전체 블로그를 조회\n",
    "'''\n",
    "@api_view(['GET'])\n",
    "@authentication_classes([SessionAuthentication, BasicAuthentication]) # 권한 설정\n",
    "def get_all_blogs(request):\n",
    "    # authentication\n",
    "    blogs = Blog.objects.all()\n",
    "    serializer = BlogSerializer(blogs, many=True)\n",
    "    return Response(serializer.data)\n",
    "\n",
    "'''\n",
    "한 블로그 post\n",
    "'''\n",
    "@api_view(['POST'])\n",
    "@authentication_classes([SessionAuthentication, BasicAuthentication])\n",
    "@permission_classes([IsAuthenticated]) # 권한이 인증된 유저만 작성이 가능\n",
    "def post_one_blog(request):\n",
    "    serializer = BlogPostPutSerializer(data=request.data)\n",
    "    if serializer.is_valid():\n",
    "        serializer.save(author=request.user)\n",
    "        return Response(serializer.data, status = status.HTTP_201_CREATED)\n",
    "    return Response(status=status.HTTP_400_BAD_REQUEST)\n",
    "\n",
    "'''\n",
    "한 블로그 조회\n",
    "'''\n",
    "@api_view(['GET'])\n",
    "@authentication_classes([SessionAuthentication, BasicAuthentication])\n",
    "def get_one_blog(request, pk):\n",
    "    try:\n",
    "        blog = Blog.objects.get(pk=pk)\n",
    "        serializer = BlogSerializer(blog)\n",
    "        return Response(serializer.data)\n",
    "    except Blog.DoesNotExist:\n",
    "        return Response(status=status.HTTP_404_NOT_FOUND)\n",
    "\n",
    "'''\n",
    "한 블로그 수정\n",
    "'''\n",
    "@api_view(['PUT'])\n",
    "@authentication_classes([SessionAuthentication, BasicAuthentication])\n",
    "@permission_classes([IsAuthenticated]) # 권한이 인증된 유저만 수정이 가능\n",
    "def put_one_blog(request, pk):\n",
    "    try: \n",
    "        blog = Blog.objects.get(pk=pk)\n",
    "        if blog.author == request.user: # 둘이 동일한 경우만 \n",
    "            serializer = BlogPostPutSerializer(blog, data=request.data)\n",
    "            if serializer.is_valid():\n",
    "                serializer.save()\n",
    "                return Response(status=status.HTTP_200_OK)\n",
    "            return Response(status=status.HTTP_400_BAD_REQUEST)\n",
    "        return Response(status=status.HTTP_401_UNAUTHORIZED)\n",
    "    except Blog.DoesNotExist:\n",
    "        return Response(status=status.HTTP_404_NOT_FOUND)\n",
    "\n",
    "'''\n",
    "한 블로그 삭제\n",
    "'''\n",
    "@api_view(['DELETE'])\n",
    "@authentication_classes([SessionAuthentication, BasicAuthentication])\n",
    "@permission_classes([IsAuthenticated]) # 권한이 인증된 유저만 삭제가 가능\n",
    "def delete_one_blog(request, pk):\n",
    "    try:\n",
    "        blog = Blog.objects.get(pk=pk)\n",
    "        if blog.author == request.user: # 둘이 동일한 경우만\n",
    "            blog.delete()\n",
    "            return Response(status=status.HTTP_204_NO_CONTENT)\n",
    "        return Response(status=status.HTTP_401_UNAUTHORIZED)\n",
    "    except Blog.DoesNotExist:\n",
    "        return Response(status=status.HTTP_404_NOT_FOUND)"
   ]
  },
  {
   "cell_type": "markdown",
   "id": "6b5bc690",
   "metadata": {},
   "source": [
    "#### 10. url 정의하기\n",
    "- tutorial의 url 정의\n",
    "- accounts 앱 내부의 urls.py 생성 및 정의"
   ]
  },
  {
   "cell_type": "code",
   "execution_count": null,
   "id": "f1645de9",
   "metadata": {},
   "outputs": [],
   "source": [
    "# tutorial -> urls.py\n",
    "\n",
    "from django.contrib import admin\n",
    "from django.urls import path, include\n",
    "\n",
    "urlpatterns = [\n",
    "    path('admin/', admin.site.urls),\n",
    "    path('blog/', include('blog.urls')),\n",
    "    path('account/', include('accounts.urls')), # accounts의 urls를 상속\n",
    "]"
   ]
  },
  {
   "cell_type": "code",
   "execution_count": null,
   "id": "497f7014",
   "metadata": {},
   "outputs": [],
   "source": [
    "# accounts -> urls.py\n",
    "\n",
    "from django.urls import path\n",
    "from .views import *\n",
    "\n",
    "app_name = 'accounts'\n",
    "\n",
    "urlpatterns = [\n",
    "    path('login', login),\n",
    "    path('signup', signup),\n",
    "    path('logout', logout)\n",
    "]"
   ]
  },
  {
   "cell_type": "markdown",
   "id": "f018931f",
   "metadata": {},
   "source": [
    "### 서버키고 확인해보기"
   ]
  }
 ],
 "metadata": {
  "kernelspec": {
   "display_name": "Python 3 (ipykernel)",
   "language": "python",
   "name": "python3"
  },
  "language_info": {
   "codemirror_mode": {
    "name": "ipython",
    "version": 3
   },
   "file_extension": ".py",
   "mimetype": "text/x-python",
   "name": "python",
   "nbconvert_exporter": "python",
   "pygments_lexer": "ipython3",
   "version": "3.9.7"
  }
 },
 "nbformat": 4,
 "nbformat_minor": 5
}
