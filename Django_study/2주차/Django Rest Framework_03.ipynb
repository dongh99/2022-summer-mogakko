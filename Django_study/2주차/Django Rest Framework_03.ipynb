{
 "cells": [
  {
   "cell_type": "markdown",
   "id": "3eba6e70",
   "metadata": {},
   "source": [
    "### CRUD - Create 구현\n",
    "\n",
    "\n",
    "- CRUD중 Create부분 구현\n",
    "- HTTP method중 POST에 해당"
   ]
  },
  {
   "cell_type": "markdown",
   "id": "7a28f6fa",
   "metadata": {},
   "source": [
    "#### 1. serializer  생성하기\n",
    "- 기존 Read에서와 동일하게 serializer를 생성해야한다\n",
    "- POST를 위한 serializer로 따로 생성"
   ]
  },
  {
   "cell_type": "code",
   "execution_count": null,
   "id": "0b90f263",
   "metadata": {},
   "outputs": [],
   "source": [
    "# blog -> serializers.py\n",
    "\n",
    "class BlogPostPutSerializer(serializers.ModelSerializer): # Post를 위한 serializer\n",
    "    class Meta:\n",
    "        model = Blog\n",
    "        fields = ['id', 'title', 'body']\n",
    "        read_only_fields = ['id'] # read만 가능"
   ]
  },
  {
   "cell_type": "code",
   "execution_count": null,
   "id": "fe9cbcb0",
   "metadata": {},
   "outputs": [],
   "source": [
    "# blog -> views.py\n",
    "\n",
    "from .serializers import BlogSerializer, BlogPostPutSerializer # BlogPostPutSerializer 추가\n",
    "\n",
    "@api_view(['POST']) # 해당함수에서는 POST라는 request method를 사용\n",
    "def post_one_blog(request):\n",
    "    serializer = BlogPostPutSerializer(data=request.data) # BlogPostPutSerializer 에 요청이 들어온 데이터를 넘겨 serializer 라는 변수에 담는다.\n",
    "    if serializer.is_valid(): # 유효성 검사\n",
    "        serializer.save() # 저장\n",
    "        return Response(serializer.data, status = status.HTTP_201_CREATED) # 유효할 경우 상태코드 201 반환\n",
    "    return Response(status=status.HTTP_400_BAD_REQUEST) # 유효하지 않을 경우 상태코드 400 반환"
   ]
  },
  {
   "cell_type": "markdown",
   "id": "671d3c9d",
   "metadata": {},
   "source": [
    "- 201 상태코드:  요청이 성공적으로 처리되었으며, 자원이 생성되었음을 나타내는 성공 상태 응답 코드\n",
    "\n",
    "\n",
    "- 400 상태코드:  서버가 클라이언트 오류(예: 잘못된 요청 구문, 유효하지 않은 요청 메시지 프레이밍, 또는 변조된 요청 라우팅) 를 감지해 요청을 처리할 수 없거나, 하지 않는다는 응답 코드"
   ]
  },
  {
   "cell_type": "markdown",
   "id": "286447ed",
   "metadata": {},
   "source": [
    "#### 2. urls.py 추가하기\n",
    "- views.py 수정후 urls.py 반드시 수정하기"
   ]
  },
  {
   "cell_type": "code",
   "execution_count": null,
   "id": "7f37317e",
   "metadata": {},
   "outputs": [],
   "source": [
    "# blog -> urls.py\n",
    "\n",
    "from django.urls import path\n",
    "from .views import *\n",
    "\n",
    "app_name = 'blog'\n",
    "\n",
    "urlpatterns = [\n",
    "    path('', get_all_blogs),\n",
    "    path('post', post_one_blog), # 추가\n",
    "    path('<int:pk>/', get_one_blog),\n",
    "]"
   ]
  },
  {
   "cell_type": "markdown",
   "id": "ba976cfc",
   "metadata": {},
   "source": [
    "### CRUD - Update 구현\n",
    "\n",
    "\n",
    "- 별도의 serializer 사용x\n",
    "- 기존의 Create의 serializer 사용"
   ]
  },
  {
   "cell_type": "markdown",
   "id": "938fd3f5",
   "metadata": {},
   "source": [
    "#### 1. views.py 작성\n",
    "\n",
    "\n",
    "- api_view 데코레이터의 경우는 'PUT' 사용\n",
    "- pk를 통해 글이 있는지 확인\n",
    "- BlogPostPutSerializer(blog, data=request.data) -> 이미 존재하는 블로그 객체를 수정하고 요청이 들어온 데이터를 넘김"
   ]
  },
  {
   "cell_type": "code",
   "execution_count": null,
   "id": "1cd8cb3c",
   "metadata": {},
   "outputs": [],
   "source": [
    "# blog -> views.py\n",
    "\n",
    "@api_view(['PUT']) # update -> 'PUT'사용\n",
    "def put_one_blog(request, pk): # pk를 통해 수정하는 글이 있는지 확인\n",
    "    try: # 오류가 없을 경우 \n",
    "        blog = Blog.objects.get(pk=pk)\n",
    "        serializer = BlogPostPutSerializer(blog, data=request.data) # 이미 존재하는 블로그 객체 수정, 요청이 들어온 데이터 넘김\n",
    "        if serializer.is_valid():\n",
    "            serializer.save()\n",
    "            return Response(status=status.HTTP_200_OK) # 200코드 반환\n",
    "        return Response(status=status.HTTP_400_BAD_REQUEST) # 유효하지 않을 경우 -> 400코드 반환\n",
    "    except Blog.DoesNotExist: # 블로그가 존재하지 않을 경우\n",
    "        return Response(status=status.HTTP_404_NOT_FOUND) # 404코드 반환"
   ]
  },
  {
   "cell_type": "markdown",
   "id": "2d5aa73c",
   "metadata": {},
   "source": [
    "- 200 상태코드: 서버가 요청을 제대로 처리했다는 코드\n",
    "\n",
    "\n",
    "- 404 상태코드: 요청한 페이지를 찾을수 없다는 코드"
   ]
  },
  {
   "cell_type": "markdown",
   "id": "dc09c1d0",
   "metadata": {},
   "source": [
    "#### 2. urls.py 추가하기"
   ]
  },
  {
   "cell_type": "code",
   "execution_count": null,
   "id": "606a9fae",
   "metadata": {},
   "outputs": [],
   "source": [
    "from django.urls import path\n",
    "from .views import *\n",
    "\n",
    "\n",
    "app_name = 'blog'\n",
    "\n",
    "urlpatterns = [\n",
    "    path('', get_all_blogs),\n",
    "    path('post', post_one_blog),\n",
    "    path('<int:pk>/', get_one_blog),\n",
    "    path('put/<int:pk>/', put_one_blog), # 추가 / 1번째 글 -> 'pk = 1' \n",
    "]"
   ]
  },
  {
   "cell_type": "markdown",
   "id": "0af6cb34",
   "metadata": {},
   "source": [
    "### CRUD - Delete 구현\n",
    "- 삭제 -> serializer 필요없음"
   ]
  },
  {
   "cell_type": "markdown",
   "id": "f1a16411",
   "metadata": {},
   "source": [
    "#### 1. views.py 작성하기\n",
    "\n",
    "\n",
    "- api_view 데코레이터는 'DELETE' 사용\n",
    "- pk를 통해 블로그 존재여부 확인"
   ]
  },
  {
   "cell_type": "code",
   "execution_count": null,
   "id": "beb9e3ee",
   "metadata": {},
   "outputs": [],
   "source": [
    "# blog -> views.py\n",
    "\n",
    "@api_view(['DELETE']) # delete -> 'DELETE' 사용\n",
    "def delete_one_blog(request, pk):# pk를 통해 존재여부 확인\n",
    "    try: # 블로그가 있을 경우\n",
    "        blog = Blog.objects.get(pk=pk)\n",
    "        blog.delete() # 삭제\n",
    "        return Response(status=status.HTTP_204_NO_CONTENT) # 204 코드 반환\n",
    "    except Blog.DoesNotExist: # 블로그가 없을 경우\n",
    "        return Response(status=status.HTTP_404_NOT_FOUND) # 404 코드 반환"
   ]
  },
  {
   "cell_type": "markdown",
   "id": "c8bbc808",
   "metadata": {},
   "source": [
    "- 204 상태코드: 요청이 성공했으나 클라이언트가 현재 페이지에서 벗어나지 않아도 된다는 것을 나타내는 코드"
   ]
  },
  {
   "cell_type": "markdown",
   "id": "2e591e1f",
   "metadata": {},
   "source": [
    "#### 2. urls.py 추가하기"
   ]
  },
  {
   "cell_type": "code",
   "execution_count": null,
   "id": "084424e7",
   "metadata": {},
   "outputs": [],
   "source": [
    "from django.urls import path\n",
    "from .views import *\n",
    "\n",
    "app_name = 'blog'\n",
    "\n",
    "urlpatterns = [\n",
    "    path('', get_all_blogs),\n",
    "    path('post', post_one_blog),\n",
    "    path('<int:pk>/', get_one_blog),\n",
    "    path('put/<int:pk>/', put_one_blog),\n",
    "    path('delete/<int:pk>/', delete_one_blog), # 추가\n",
    "]"
   ]
  },
  {
   "cell_type": "markdown",
   "id": "65224014",
   "metadata": {},
   "source": [
    "### 서버와 postman으로 둘다 확인"
   ]
  }
 ],
 "metadata": {
  "kernelspec": {
   "display_name": "Python 3 (ipykernel)",
   "language": "python",
   "name": "python3"
  },
  "language_info": {
   "codemirror_mode": {
    "name": "ipython",
    "version": 3
   },
   "file_extension": ".py",
   "mimetype": "text/x-python",
   "name": "python",
   "nbconvert_exporter": "python",
   "pygments_lexer": "ipython3",
   "version": "3.9.7"
  }
 },
 "nbformat": 4,
 "nbformat_minor": 5
}
