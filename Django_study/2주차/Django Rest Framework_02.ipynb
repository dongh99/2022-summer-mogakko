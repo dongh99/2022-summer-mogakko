{
 "cells": [
  {
   "cell_type": "markdown",
   "id": "55bdfab2",
   "metadata": {},
   "source": [
    "### Form\n",
    "- Form의 역할\n",
    "    - 데이터를 담아 전송과 처리를 해줌\n",
    "    - form 덕분에 필수적인 데이터를 놓치지 않고, 필요없는 데이터는 정제할수 있음"
   ]
  },
  {
   "cell_type": "markdown",
   "id": "fd56eb83",
   "metadata": {},
   "source": [
    "### Serializer\n",
    "- REST Framework에서 form과 동일한 역할을 함\n",
    "- 차이점\n",
    "    - REST: HTML form 형식 사용\n",
    "    - Serializer: json 형식\n",
    "- 데이터를 담아서 정리해주는 상자의 역할 진행"
   ]
  },
  {
   "cell_type": "markdown",
   "id": "903ec95e",
   "metadata": {},
   "source": [
    "### CRUD - Read 구현"
   ]
  },
  {
   "cell_type": "markdown",
   "id": "309ca034",
   "metadata": {},
   "source": [
    "#### 1. blog app 만들기\n",
    "1. $ python manage.py startapp blog\n",
    "2. sttings.py의 INSTALLED_APPS에 등록"
   ]
  },
  {
   "cell_type": "markdown",
   "id": "8ba09b53",
   "metadata": {},
   "source": [
    "#### 2. models.py 작성\n",
    "- 모델 수정이후 반드시 마이그레이션 해주기!\n",
    "\n",
    "\n",
    "$ python manage.py makemigrations\n",
    "\n",
    "$ python manage.py migrate\n",
    "\n",
    "\n",
    "- 모델 등록후 admin 페이지에 알려주기"
   ]
  },
  {
   "cell_type": "code",
   "execution_count": null,
   "id": "e9f0dc0f",
   "metadata": {},
   "outputs": [],
   "source": [
    "# models.py\n",
    "\n",
    "from django.db import models # 아래에서 사용\n",
    "\n",
    "class Blog(models.Model):\n",
    "    title = models.CharField(max_length=100) # 길이제한\n",
    "    body = models.TextField(default=\"default\")\n",
    "    date = models.DateTimeField(auto_now_add=True) # 생성일자에 사용\n",
    "    # auto-now는 수정일자 / auto-now-add는 생성일자\n",
    "\n",
    "    def __str__(self):\n",
    "        return self.title"
   ]
  },
  {
   "cell_type": "code",
   "execution_count": null,
   "id": "64efe915",
   "metadata": {},
   "outputs": [],
   "source": [
    "# admin.py\n",
    "\n",
    "from django.contrib import admin\n",
    "from .models import *\n",
    "\n",
    "admin.site.register(Blog) # model을 등록해줬기 때문에 admin애도 알리기"
   ]
  },
  {
   "cell_type": "markdown",
   "id": "5679d568",
   "metadata": {},
   "source": [
    "#### 3. urls.py 작성\n",
    "- path에 추가해주기\n",
    "- import 부분도 추가시 신경써야함"
   ]
  },
  {
   "cell_type": "code",
   "execution_count": null,
   "id": "b15f9a3c",
   "metadata": {},
   "outputs": [],
   "source": [
    "# tutorial -> urls.py\n",
    "\n",
    "from django.contrib import admin\n",
    "from django.urls import path, include # include 추가\n",
    "\n",
    "urlpatterns = [\n",
    "    path('admin/', admin.site.urls),\n",
    "    path('blog/', include('blog.urls')), # blog.urls를 포함\n",
    "]"
   ]
  },
  {
   "cell_type": "code",
   "execution_count": null,
   "id": "cefda202",
   "metadata": {},
   "outputs": [],
   "source": [
    "# blog -> urls.py\n",
    "\n",
    "from django.urls import path\n",
    "from .views import *\n",
    "\n",
    "app_name = 'blog'\n",
    "\n",
    "urlpatterns = [\n",
    "    path('', get_all_blogs),\n",
    "    path('<int:pk>/', get_one_blog)\n",
    "]"
   ]
  },
  {
   "cell_type": "markdown",
   "id": "c7b8d5f2",
   "metadata": {},
   "source": [
    "#### 4. serializer 생성하기\n",
    "- blog 앱 안에 serializers.py 생성하기"
   ]
  },
  {
   "cell_type": "code",
   "execution_count": null,
   "id": "52015d8b",
   "metadata": {},
   "outputs": [],
   "source": [
    "# blog -> serializers.py\n",
    "\n",
    "from rest_framework import serializers # serializer 사용\n",
    "from dataclasses import field\n",
    "from .models import Blog\n",
    "\n",
    "class BlogSerializer(serializers.ModelSerializer): # ModelSerializer를 상속\n",
    "    class Meta: # Meta 클래스 사용\n",
    "        model = Blog\n",
    "        fields = ['id', 'title', 'body']\n",
    "        read_only_fields = ['id'] # 읽는것만 가능한 필드 -> id에 대한 조작을 방지"
   ]
  },
  {
   "cell_type": "markdown",
   "id": "637d8b1c",
   "metadata": {},
   "source": [
    "### Meta 클래스\n",
    "- Meta 클래스란?\n",
    "    - model 클래스에 대한 정의를 해주는 부분 -> model에 대한 다양한 정의가 가능\n",
    "    - 내부 클래스로 사용되어 상위 클래스에게 meta data를 제공\n",
    "    - 데이터에 대한 데이터 or 다른 데이터를 설명해주는 데이터\n",
    "    - ex) 데이터베이스 이름, 단 복수 이름, 추상화, 순서 지정"
   ]
  },
  {
   "cell_type": "markdown",
   "id": "7a32c54f",
   "metadata": {},
   "source": [
    "#### 5. views.py 작성하기"
   ]
  },
  {
   "cell_type": "code",
   "execution_count": null,
   "id": "b8036de7",
   "metadata": {},
   "outputs": [],
   "source": [
    "from .models import Blog\n",
    "from .serializers import BlogSerializer # 데이터를 담은 serializer\n",
    "from rest_framework.decorators import api_view # http method 지정 데코레이터\n",
    "from rest_framework.response import Response # 응답\n",
    "from rest_framework import status # for http status code\n",
    "\n",
    "'''\n",
    "전체 블로그를 조회\n",
    "'''\n",
    "@api_view(['GET']) # GET 요청만 받겠다.\n",
    "def get_all_blogs(request):\n",
    "    blogs = Blog.objects.all()\n",
    "    serializer = BlogSerializer(blogs, many=True) # 'many=True' -> 다수의 blogs 형태를 serialize하고자 할 때\n",
    "    # serialize로 보내려는 객체가 복수일 때 many=True 반드시 해야함\n",
    "    return Response(serializer.data)\n",
    "\n",
    "'''\n",
    "한 블로그 조회\n",
    "'''\n",
    "@api_view(['GET'])\n",
    "def get_one_blog(request, pk):\n",
    "    try: # 블로그가 존재할 경우\n",
    "        blog = Blog.objects.get(pk=pk)\n",
    "        serializer = BlogSerializer(blog)\n",
    "        return Response(serializer.data)\n",
    "    except Blog.DoesNotExist: # 블로그 존재하지 않을 경우\n",
    "        return Response(status=status.HTTP_404_NOT_FOUND)"
   ]
  },
  {
   "cell_type": "markdown",
   "id": "165b23c1",
   "metadata": {},
   "source": [
    "### @api_view 데코레이터\n",
    "\n",
    "- 함수가 요청 받을 http method를 지정해주는 데코레이터\n",
    "- 지정된 http method가 아닐 경우 무시\n",
    "    - ex) GET -> POST\n",
    "- 두개의 http method를 받을 수 있음\n",
    "    - ex) ['GET','POST']\n",
    "- api를 사용하기 위해서는 반드시 사용"
   ]
  }
 ],
 "metadata": {
  "kernelspec": {
   "display_name": "Python 3 (ipykernel)",
   "language": "python",
   "name": "python3"
  },
  "language_info": {
   "codemirror_mode": {
    "name": "ipython",
    "version": 3
   },
   "file_extension": ".py",
   "mimetype": "text/x-python",
   "name": "python",
   "nbconvert_exporter": "python",
   "pygments_lexer": "ipython3",
   "version": "3.9.7"
  }
 },
 "nbformat": 4,
 "nbformat_minor": 5
}
